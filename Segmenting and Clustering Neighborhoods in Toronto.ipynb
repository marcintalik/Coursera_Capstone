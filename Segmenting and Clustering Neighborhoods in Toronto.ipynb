{
    "cells": [
        {
            "metadata": {
                "collapsed": true
            },
            "cell_type": "markdown",
            "source": "# Segmenting and Clustering Neighborhoods in Toronto"
        },
        {
            "metadata": {},
            "cell_type": "markdown",
            "source": "## 1. Build the code to scrape the following Wikipedia page"
        },
        {
            "metadata": {},
            "cell_type": "code",
            "source": "!pip install bs4\n!pip install geocoder",
            "execution_count": 52,
            "outputs": [
                {
                    "output_type": "stream",
                    "text": "Requirement already satisfied: bs4 in /opt/conda/envs/Python-3.7-main/lib/python3.7/site-packages (0.0.1)\nRequirement already satisfied: beautifulsoup4 in /opt/conda/envs/Python-3.7-main/lib/python3.7/site-packages (from bs4) (4.9.1)\nRequirement already satisfied: soupsieve>1.2 in /opt/conda/envs/Python-3.7-main/lib/python3.7/site-packages (from beautifulsoup4->bs4) (2.0.1)\nRequirement already satisfied: geocoder in /opt/conda/envs/Python-3.7-main/lib/python3.7/site-packages (1.38.1)\nRequirement already satisfied: click in /opt/conda/envs/Python-3.7-main/lib/python3.7/site-packages (from geocoder) (7.1.2)\nRequirement already satisfied: future in /opt/conda/envs/Python-3.7-main/lib/python3.7/site-packages (from geocoder) (0.18.2)\nRequirement already satisfied: six in /opt/conda/envs/Python-3.7-main/lib/python3.7/site-packages (from geocoder) (1.15.0)\nRequirement already satisfied: ratelim in /opt/conda/envs/Python-3.7-main/lib/python3.7/site-packages (from geocoder) (0.1.6)\nRequirement already satisfied: requests in /opt/conda/envs/Python-3.7-main/lib/python3.7/site-packages (from geocoder) (2.24.0)\nRequirement already satisfied: decorator in /opt/conda/envs/Python-3.7-main/lib/python3.7/site-packages (from ratelim->geocoder) (4.4.2)\nRequirement already satisfied: urllib3!=1.25.0,!=1.25.1,<1.26,>=1.21.1 in /opt/conda/envs/Python-3.7-main/lib/python3.7/site-packages (from requests->geocoder) (1.25.9)\nRequirement already satisfied: idna<3,>=2.5 in /opt/conda/envs/Python-3.7-main/lib/python3.7/site-packages (from requests->geocoder) (2.9)\nRequirement already satisfied: chardet<4,>=3.0.2 in /opt/conda/envs/Python-3.7-main/lib/python3.7/site-packages (from requests->geocoder) (3.0.4)\nRequirement already satisfied: certifi>=2017.4.17 in /opt/conda/envs/Python-3.7-main/lib/python3.7/site-packages (from requests->geocoder) (2020.12.5)\n",
                    "name": "stdout"
                }
            ]
        },
        {
            "metadata": {},
            "cell_type": "code",
            "source": "import pandas as pd\nimport requests\nfrom bs4 import BeautifulSoup",
            "execution_count": 53,
            "outputs": []
        },
        {
            "metadata": {},
            "cell_type": "code",
            "source": "html_data = requests.get('https://en.wikipedia.org/wiki/List_of_postal_codes_of_Canada:_M').text",
            "execution_count": 54,
            "outputs": []
        },
        {
            "metadata": {},
            "cell_type": "code",
            "source": "soup = BeautifulSoup(html_data, 'html.parser')",
            "execution_count": 55,
            "outputs": []
        },
        {
            "metadata": {},
            "cell_type": "markdown",
            "source": "## 2. Create the dataframe"
        },
        {
            "metadata": {},
            "cell_type": "code",
            "source": "data_pc = pd.DataFrame(columns=[\"PostalCode\", \"Borough\", \"Neighborhood\",\"Latitude\",\"Longitude\"])\n\nfor row in soup.find(\"tbody\").find_all(\"tr\"):\n    col = row.find_all(\"td\")\n    \n    if len(col)>0:\n        pc =col[0].text.replace(\"\\n\", \"\")\n        b =col[1].text.replace(\"\\n\", \"\")\n        n =col[2].text.replace(\"\\n\", \"\")\n    \n        data_pc = data_pc.append({\"PostalCode\":pc, \"Borough\":b, \"Neighborhood\":n}, ignore_index=True)\n\ndata_pc = data_pc[data_pc.Borough != \"Not assigned\"]\ndata_pc = data_pc.groupby(\"PostalCode\",as_index=False,sort=True).sum()\ndata_pc = data_pc.reset_index(drop=True)\n# Chec if there is some not assigned neighborhoods\ndata_pc.loc[data_pc['Neighborhood'] == \"Not assigned\"]\n# Show data shape\ndata_pc.shape",
            "execution_count": 155,
            "outputs": [
                {
                    "output_type": "execute_result",
                    "execution_count": 155,
                    "data": {
                        "text/plain": "(103, 5)"
                    },
                    "metadata": {}
                }
            ]
        },
        {
            "metadata": {},
            "cell_type": "markdown",
            "source": "## 3. Get longitude and latitude by useing Geocoder"
        },
        {
            "metadata": {},
            "cell_type": "code",
            "source": "import geocoder # import geocoder\nimport os, types\nimport pandas as pd\nfrom botocore.client import Config\nimport ibm_boto3",
            "execution_count": 57,
            "outputs": []
        },
        {
            "metadata": {},
            "cell_type": "code",
            "source": "def __iter__(self): return 0\n\n# @hidden_cell\n# The following code accesses a file in your IBM Cloud Object Storage. It includes your credentials.\n# You might want to remove those credentials before you share the notebook.\n\nif os.environ.get('RUNTIME_ENV_LOCATION_TYPE') == 'external':\n    endpoint_fa9d07a7cae7449c9af7e35a6b5359de = 'https://s3.eu-geo.objectstorage.softlayer.net'\nelse:\n    endpoint_fa9d07a7cae7449c9af7e35a6b5359de = 'https://s3.eu-geo.objectstorage.service.networklayer.com'\n\nclient_fa9d07a7cae7449c9af7e35a6b5359de = ibm_boto3.client(service_name='s3',\n    ibm_api_key_id='Mxq-DqyDnX4DL2AA_jSc2EqhiXtftDwnOOiWhqgPE1iv',\n    ibm_auth_endpoint=\"https://iam.cloud.ibm.com/oidc/token\",\n    config=Config(signature_version='oauth'),\n    endpoint_url=endpoint_fa9d07a7cae7449c9af7e35a6b5359de)\n\nbody = client_fa9d07a7cae7449c9af7e35a6b5359de.get_object(Bucket='datascience-donotdelete-pr-qg7cd0fgwpks0u',Key='Geospatial_Coordinates.csv')['Body']\n# add missing __iter__ method, so pandas accepts body as file-like object\nif not hasattr(body, \"__iter__\"): body.__iter__ = types.MethodType( __iter__, body )\ncoordinates = pd.read_csv(body)",
            "execution_count": 60,
            "outputs": []
        },
        {
            "metadata": {},
            "cell_type": "code",
            "source": "df = pd.DataFrame()\nfor index, row in data_pc.iterrows():\n    postal = [row['PostalCode']]\n    c_row  = coordinates[coordinates['Postal Code'].isin(postal)]\n    latitude = c_row['Latitude'].values[0].astype(float)\n    longitude = c_row['Longitude'].values[0].astype(float)\n    row[\"Latitude\"] = latitude\n    row[\"Longitude\"] = longitude\n    \n    df = df.append(row, ignore_index=True)\n\ndf.head(100)",
            "execution_count": 156,
            "outputs": [
                {
                    "output_type": "execute_result",
                    "execution_count": 156,
                    "data": {
                        "text/plain": "        Borough   Latitude  Longitude  \\\n0   Scarborough  43.806686 -79.194353   \n1   Scarborough  43.784535 -79.160497   \n2   Scarborough  43.763573 -79.188711   \n3   Scarborough  43.770992 -79.216917   \n4   Scarborough  43.773136 -79.239476   \n..          ...        ...        ...   \n95    Etobicoke  43.643515 -79.577201   \n96   North York  43.756303 -79.565963   \n97   North York  43.724766 -79.532242   \n98         York  43.706876 -79.518188   \n99    Etobicoke  43.696319 -79.532242   \n\n                                         Neighborhood PostalCode  \n0                                      Malvern, Rouge        M1B  \n1              Rouge Hill, Port Union, Highland Creek        M1C  \n2                   Guildwood, Morningside, West Hill        M1E  \n3                                              Woburn        M1G  \n4                                           Cedarbrae        M1H  \n..                                                ...        ...  \n95  Eringate, Bloordale Gardens, Old Burnhamthorpe...        M9C  \n96                                      Humber Summit        M9L  \n97                                   Humberlea, Emery        M9M  \n98                                             Weston        M9N  \n99                                          Westmount        M9P  \n\n[100 rows x 5 columns]",
                        "text/html": "<div>\n<style scoped>\n    .dataframe tbody tr th:only-of-type {\n        vertical-align: middle;\n    }\n\n    .dataframe tbody tr th {\n        vertical-align: top;\n    }\n\n    .dataframe thead th {\n        text-align: right;\n    }\n</style>\n<table border=\"1\" class=\"dataframe\">\n  <thead>\n    <tr style=\"text-align: right;\">\n      <th></th>\n      <th>Borough</th>\n      <th>Latitude</th>\n      <th>Longitude</th>\n      <th>Neighborhood</th>\n      <th>PostalCode</th>\n    </tr>\n  </thead>\n  <tbody>\n    <tr>\n      <th>0</th>\n      <td>Scarborough</td>\n      <td>43.806686</td>\n      <td>-79.194353</td>\n      <td>Malvern, Rouge</td>\n      <td>M1B</td>\n    </tr>\n    <tr>\n      <th>1</th>\n      <td>Scarborough</td>\n      <td>43.784535</td>\n      <td>-79.160497</td>\n      <td>Rouge Hill, Port Union, Highland Creek</td>\n      <td>M1C</td>\n    </tr>\n    <tr>\n      <th>2</th>\n      <td>Scarborough</td>\n      <td>43.763573</td>\n      <td>-79.188711</td>\n      <td>Guildwood, Morningside, West Hill</td>\n      <td>M1E</td>\n    </tr>\n    <tr>\n      <th>3</th>\n      <td>Scarborough</td>\n      <td>43.770992</td>\n      <td>-79.216917</td>\n      <td>Woburn</td>\n      <td>M1G</td>\n    </tr>\n    <tr>\n      <th>4</th>\n      <td>Scarborough</td>\n      <td>43.773136</td>\n      <td>-79.239476</td>\n      <td>Cedarbrae</td>\n      <td>M1H</td>\n    </tr>\n    <tr>\n      <th>...</th>\n      <td>...</td>\n      <td>...</td>\n      <td>...</td>\n      <td>...</td>\n      <td>...</td>\n    </tr>\n    <tr>\n      <th>95</th>\n      <td>Etobicoke</td>\n      <td>43.643515</td>\n      <td>-79.577201</td>\n      <td>Eringate, Bloordale Gardens, Old Burnhamthorpe...</td>\n      <td>M9C</td>\n    </tr>\n    <tr>\n      <th>96</th>\n      <td>North York</td>\n      <td>43.756303</td>\n      <td>-79.565963</td>\n      <td>Humber Summit</td>\n      <td>M9L</td>\n    </tr>\n    <tr>\n      <th>97</th>\n      <td>North York</td>\n      <td>43.724766</td>\n      <td>-79.532242</td>\n      <td>Humberlea, Emery</td>\n      <td>M9M</td>\n    </tr>\n    <tr>\n      <th>98</th>\n      <td>York</td>\n      <td>43.706876</td>\n      <td>-79.518188</td>\n      <td>Weston</td>\n      <td>M9N</td>\n    </tr>\n    <tr>\n      <th>99</th>\n      <td>Etobicoke</td>\n      <td>43.696319</td>\n      <td>-79.532242</td>\n      <td>Westmount</td>\n      <td>M9P</td>\n    </tr>\n  </tbody>\n</table>\n<p>100 rows \u00d7 5 columns</p>\n</div>"
                    },
                    "metadata": {}
                }
            ]
        },
        {
            "metadata": {},
            "cell_type": "code",
            "source": "",
            "execution_count": null,
            "outputs": []
        }
    ],
    "metadata": {
        "kernelspec": {
            "name": "python3",
            "display_name": "Python 3.7",
            "language": "python"
        },
        "language_info": {
            "name": "python",
            "version": "3.7.10",
            "mimetype": "text/x-python",
            "codemirror_mode": {
                "name": "ipython",
                "version": 3
            },
            "pygments_lexer": "ipython3",
            "nbconvert_exporter": "python",
            "file_extension": ".py"
        }
    },
    "nbformat": 4,
    "nbformat_minor": 1
}